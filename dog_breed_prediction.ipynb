{
  "nbformat": 4,
  "nbformat_minor": 0,
  "metadata": {
    "colab": {
      "name": "dog_breed_prediction.ipynb",
      "provenance": [],
      "authorship_tag": "ABX9TyMbKKVc+LmxIUoMXRR/xZcS",
      "include_colab_link": true
    },
    "kernelspec": {
      "name": "python3",
      "display_name": "Python 3"
    },
    "language_info": {
      "name": "python"
    }
  },
  "cells": [
    {
      "cell_type": "markdown",
      "metadata": {
        "id": "view-in-github",
        "colab_type": "text"
      },
      "source": [
        "<a href=\"https://colab.research.google.com/github/vivek11416/dataScienceProjects/blob/main/dog_breed_prediction.ipynb\" target=\"_parent\"><img src=\"https://colab.research.google.com/assets/colab-badge.svg\" alt=\"Open In Colab\"/></a>"
      ]
    },
    {
      "cell_type": "code",
      "metadata": {
        "id": "SSp1eHqWZZzB"
      },
      "source": [
        "# download kaggle.json from kaggle account settings page\n",
        "from google.colab import files\n",
        "files.upload()"
      ],
      "execution_count": null,
      "outputs": []
    },
    {
      "cell_type": "code",
      "metadata": {
        "id": "yXTBnMTmeSDC"
      },
      "source": [
        "#install kaggle API client\n",
        "!pip install -q kaggle"
      ],
      "execution_count": 5,
      "outputs": []
    },
    {
      "cell_type": "code",
      "metadata": {
        "id": "Wg7uOJUyeemC"
      },
      "source": [
        "#the kaggle API client expects this file to be in kaggle folder\n",
        "!mkdir -p ~/.kaggle\n",
        "!cp kaggle.json ~/.kaggle/\n",
        "\n",
        "#update permission to avoig kaggle tool warning\n",
        "!chmod 600 ~/.kaggle/kaggle.json"
      ],
      "execution_count": 6,
      "outputs": []
    },
    {
      "cell_type": "code",
      "metadata": {
        "colab": {
          "base_uri": "https://localhost:8080/"
        },
        "id": "0vxbIkw5fIp0",
        "outputId": "0b7915de-4003-47c0-a316-981db44d7571"
      },
      "source": [
        "#change current working directory\n",
        "!mkdir dog_dataset\n",
        "%cd dog_dataset"
      ],
      "execution_count": 7,
      "outputs": [
        {
          "output_type": "stream",
          "name": "stdout",
          "text": [
            "/content/dog_dataset\n"
          ]
        }
      ]
    },
    {
      "cell_type": "code",
      "metadata": {
        "colab": {
          "base_uri": "https://localhost:8080/"
        },
        "id": "zWBYiJUifUOx",
        "outputId": "25944580-b079-4ad3-bba9-aa85b66c3103"
      },
      "source": [
        "#getting dataset\n",
        "!kaggle datasets list -s dogbreedidfromcomp"
      ],
      "execution_count": 8,
      "outputs": [
        {
          "output_type": "stream",
          "name": "stdout",
          "text": [
            "Warning: Looks like you're using an outdated API Version, please consider updating (server 1.5.12 / client 1.5.4)\n",
            "ref                                title                    size  lastUpdated          downloadCount  \n",
            "---------------------------------  ----------------------  -----  -------------------  -------------  \n",
            "catherinehorng/dogbreedidfromcomp  dog-breed-id-from-comp  691MB  2020-06-26 03:09:05            269  \n"
          ]
        }
      ]
    },
    {
      "cell_type": "code",
      "metadata": {
        "colab": {
          "base_uri": "https://localhost:8080/"
        },
        "id": "4JorbjfCfqWj",
        "outputId": "5a65f737-64ef-4c12-ac6a-1e1325d37e27"
      },
      "source": [
        "#downloading\n",
        "!kaggle datasets download catherinehorng/dogbreedidfromcomp"
      ],
      "execution_count": 9,
      "outputs": [
        {
          "output_type": "stream",
          "name": "stdout",
          "text": [
            "Downloading dogbreedidfromcomp.zip to /content/dog_dataset\n",
            " 98% 678M/691M [00:21<00:00, 83.7MB/s]\n",
            "100% 691M/691M [00:21<00:00, 33.9MB/s]\n"
          ]
        }
      ]
    }
  ]
}