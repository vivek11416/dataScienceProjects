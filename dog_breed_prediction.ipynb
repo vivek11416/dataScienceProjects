{
  "nbformat": 4,
  "nbformat_minor": 0,
  "metadata": {
    "colab": {
      "name": "dog_breed_prediction.ipynb",
      "private_outputs": true,
      "provenance": [],
      "collapsed_sections": [],
      "authorship_tag": "ABX9TyMD4HW1anchD4zVSMpPlIY9",
      "include_colab_link": true
    },
    "kernelspec": {
      "name": "python3",
      "display_name": "Python 3"
    },
    "language_info": {
      "name": "python"
    },
    "accelerator": "TPU"
  },
  "cells": [
    {
      "cell_type": "markdown",
      "metadata": {
        "id": "view-in-github",
        "colab_type": "text"
      },
      "source": [
        "<a href=\"https://colab.research.google.com/github/vivek11416/dataScienceProjects/blob/main/dog_breed_prediction.ipynb\" target=\"_parent\"><img src=\"https://colab.research.google.com/assets/colab-badge.svg\" alt=\"Open In Colab\"/></a>"
      ]
    },
    {
      "cell_type": "code",
      "metadata": {
        "id": "SSp1eHqWZZzB"
      },
      "source": [
        "# download kaggle.json from kaggle account settings page\n",
        "from google.colab import files\n",
        "files.upload()"
      ],
      "execution_count": null,
      "outputs": []
    },
    {
      "cell_type": "code",
      "metadata": {
        "id": "yXTBnMTmeSDC"
      },
      "source": [
        "#install kaggle API client\n",
        "!pip install -q kaggle"
      ],
      "execution_count": null,
      "outputs": []
    },
    {
      "cell_type": "code",
      "metadata": {
        "id": "Wg7uOJUyeemC"
      },
      "source": [
        "#the kaggle API client expects this file to be in kaggle folder\n",
        "!mkdir -p ~/.kaggle\n",
        "!cp kaggle.json ~/.kaggle/\n",
        "\n",
        "#update permission to avoig kaggle tool warning\n",
        "!chmod 600 ~/.kaggle/kaggle.json"
      ],
      "execution_count": null,
      "outputs": []
    },
    {
      "cell_type": "code",
      "metadata": {
        "id": "0vxbIkw5fIp0"
      },
      "source": [
        "#change current working directory\n",
        "!mkdir dog_dataset\n",
        "%cd dog_dataset"
      ],
      "execution_count": null,
      "outputs": []
    },
    {
      "cell_type": "code",
      "metadata": {
        "id": "zWBYiJUifUOx"
      },
      "source": [
        "#getting dataset\n",
        "!kaggle datasets list -s dogbreedidfromcomp"
      ],
      "execution_count": null,
      "outputs": []
    },
    {
      "cell_type": "code",
      "metadata": {
        "id": "4JorbjfCfqWj"
      },
      "source": [
        "#downloading\n",
        "!kaggle datasets download catherinehorng/dogbreedidfromcomp"
      ],
      "execution_count": null,
      "outputs": []
    },
    {
      "cell_type": "code",
      "metadata": {
        "id": "4SMvKogpgK5i"
      },
      "source": [
        "#unzipping and removing unwanted files\n",
        "!unzip /content/dog_dataset/dogbreedidfromcomp.zip -d dog_dataset\n",
        "!rm /content/dog_dataset/dogbreedidfromcomp.zip\n",
        "!rm /content/dog_dataset/sample_submission.csv"
      ],
      "execution_count": null,
      "outputs": []
    },
    {
      "cell_type": "code",
      "metadata": {
        "id": "d4_tMG0ahcQg"
      },
      "source": [
        "import numpy as np\n",
        "import pandas as pd\n",
        "import matplotlib.pyplot as plt\n",
        "from tqdm import tqdm\n",
        "from keras.preprocessing import image\n",
        "from sklearn.preprocessing import label_binarize\n",
        "from sklearn.model_selection import train_test_split\n",
        "from keras.models import Sequential\n",
        "from keras.layers import Dense,Dropout,Flatten,Conv2D,MaxPool2D\n",
        "from tensorflow.keras.optimizers import Adam"
      ],
      "execution_count": null,
      "outputs": []
    },
    {
      "cell_type": "code",
      "metadata": {
        "id": "N2YaGkYa21Jg"
      },
      "source": [
        "labels_all = pd.read_csv(\"/content/dog_dataset/dog_dataset/labels.csv\")\n",
        "print(labels_all.shape)\n",
        "labels_all.head()"
      ],
      "execution_count": null,
      "outputs": []
    },
    {
      "cell_type": "code",
      "metadata": {
        "id": "-bHK82EF3KAZ"
      },
      "source": [
        "# visualize each breed\n",
        "breeds_all = labels_all['breed']\n",
        "breed_count = breeds_all.value_counts()\n",
        "breed_count.head()"
      ],
      "execution_count": null,
      "outputs": []
    },
    {
      "cell_type": "code",
      "metadata": {
        "id": "Ej0LlfJs60YM"
      },
      "source": [
        "#CLASS_NAMES = [list(set(breeds_all.tolist()))] # if computation power is not a limitation\n",
        "CLASS_NAMES = ['scottish_deerhound','maltese_dog','bernese_mountain_dog']\n",
        "labels = labels_all[(labels_all['breed'].isin(CLASS_NAMES))]\n",
        "labels = labels.reset_index()\n",
        "labels.head()\n",
        "\n"
      ],
      "execution_count": null,
      "outputs": []
    },
    {
      "cell_type": "code",
      "metadata": {
        "id": "fQjq7-DP3iLn"
      },
      "source": [
        " #creating numpy mtrix with zeroes\n",
        " X_data = np.zeros((len(labels),224,224,3),dtype='float32')\n",
        " #one hot encoding\n",
        " Y_data = label_binarize(labels['breed'],classes = CLASS_NAMES)\n",
        "\n",
        " #converting image to numpy array and normalizing\n",
        " for i in tqdm(range(len(labels))):\n",
        "   img = image.load_img('dog_dataset/train/%s.jpg' % labels['id'][i], target_size=(224,224))\n",
        "   img = image.img_to_array(img)\n",
        "   x = np.expand_dims(img.copy(),axis=0)\n",
        "   X_data[i] = x / 255.0\n",
        "\n",
        "  #one hot encode shape and size\n",
        "print('\\nTrain Images Shape: ',X_data.shape,' size: {:,}'.format(X_data.size))\n",
        "print('One-hot encoded output shape: ',Y_data.shape,' size: {:,}'.format(Y_data.size))\n"
      ],
      "execution_count": null,
      "outputs": []
    },
    {
      "cell_type": "code",
      "metadata": {
        "id": "WhxOVdCnR3hu"
      },
      "source": [
        "# building the model\n",
        "model = Sequential()\n",
        "\n",
        "model.add(Conv2D(filters=64,kernel_size=(5,5),activation='relu',input_shape=(224,224,3)))\n",
        "model.add(MaxPool2D(pool_size=(2,2)))\n",
        "\n",
        "model.add(Conv2D(filters=32,kernel_size=(3,3),activation='relu',kernel_regularizer='l2'))\n",
        "model.add(MaxPool2D(pool_size=(2,2)))\n",
        "\n",
        "model.add(Conv2D(filters=16,kernel_size=(7,7),activation='relu',kernel_regularizer='l2'))\n",
        "model.add(MaxPool2D(pool_size=(2,2)))\n",
        "\n",
        "model.add(Conv2D(filters=8,kernel_size=(5,5),activation='relu',kernel_regularizer='l2'))\n",
        "model.add(MaxPool2D(pool_size=(2,2)))\n",
        "\n",
        "model.add(Flatten())\n",
        "model.add(Dense(128,activation=\"relu\",kernel_regularizer='l2'))\n",
        "model.add(Dense(64,activation=\"relu\",kernel_regularizer='l2'))\n",
        "model.add(Dense(len(CLASS_NAMES),activation=\"softmax\"))\n",
        "\n",
        "model.compile(loss='categorical_crossentropy',optimizer=Adam(0.0001),metrics=['accuracy'])\n",
        "model.summary()"
      ],
      "execution_count": null,
      "outputs": []
    },
    {
      "cell_type": "code",
      "metadata": {
        "id": "sV0GaVTKUza9"
      },
      "source": [
        "#splitting the data into training and testing\n",
        "X_train_and_val,X_test,Y_train_and_val,Y_test = train_test_split(X_data,Y_data,test_size=0.1)\n",
        "#splitting training data into training and validation set\n",
        "X_train ,X_val,Y_train,Y_val = train_test_split(X_train_and_val,Y_train_and_val,test_size=0.2)"
      ],
      "execution_count": null,
      "outputs": []
    },
    {
      "cell_type": "code",
      "metadata": {
        "id": "aiLujmtgXY9W"
      },
      "source": [
        "#Training the model\n",
        "epochs = 100\n",
        "batch_size = 128\n",
        "\n",
        "history = model.fit(X_train,Y_train,batch_size=batch_size,epochs=epochs,validation_data=(X_val,Y_val))"
      ],
      "execution_count": null,
      "outputs": []
    },
    {
      "cell_type": "code",
      "metadata": {
        "id": "6IbcEosmknv-"
      },
      "source": [
        "model.save(\"dog_breed.h5\")"
      ],
      "execution_count": null,
      "outputs": []
    }
  ]
}