{
  "nbformat": 4,
  "nbformat_minor": 0,
  "metadata": {
    "colab": {
      "name": "dog_breed_prediction.ipynb",
      "private_outputs": true,
      "provenance": [],
      "collapsed_sections": [],
      "authorship_tag": "ABX9TyPSI/RDO0YtJW1dG1bHcaCq",
      "include_colab_link": true
    },
    "kernelspec": {
      "name": "python3",
      "display_name": "Python 3"
    },
    "language_info": {
      "name": "python"
    },
    "accelerator": "GPU"
  },
  "cells": [
    {
      "cell_type": "markdown",
      "metadata": {
        "id": "view-in-github",
        "colab_type": "text"
      },
      "source": [
        "<a href=\"https://colab.research.google.com/github/vivek11416/dataScienceProjects/blob/main/dog_breed_prediction.ipynb\" target=\"_parent\"><img src=\"https://colab.research.google.com/assets/colab-badge.svg\" alt=\"Open In Colab\"/></a>"
      ]
    },
    {
      "cell_type": "code",
      "metadata": {
        "id": "SSp1eHqWZZzB"
      },
      "source": [
        "# download kaggle.json from kaggle account settings page\n",
        "from google.colab import files\n",
        "files.upload()"
      ],
      "execution_count": null,
      "outputs": []
    },
    {
      "cell_type": "code",
      "metadata": {
        "id": "yXTBnMTmeSDC"
      },
      "source": [
        "#install kaggle API client\n",
        "!pip install -q kaggle"
      ],
      "execution_count": null,
      "outputs": []
    },
    {
      "cell_type": "code",
      "metadata": {
        "id": "Wg7uOJUyeemC"
      },
      "source": [
        "#the kaggle API client expects this file to be in kaggle folder\n",
        "!mkdir -p ~/.kaggle\n",
        "!cp kaggle.json ~/.kaggle/\n",
        "\n",
        "#update permission to avoig kaggle tool warning\n",
        "!chmod 600 ~/.kaggle/kaggle.json"
      ],
      "execution_count": null,
      "outputs": []
    },
    {
      "cell_type": "code",
      "metadata": {
        "id": "0vxbIkw5fIp0"
      },
      "source": [
        "#change current working directory\n",
        "!mkdir dog_dataset\n",
        "%cd dog_dataset"
      ],
      "execution_count": null,
      "outputs": []
    },
    {
      "cell_type": "code",
      "metadata": {
        "id": "zWBYiJUifUOx"
      },
      "source": [
        "#getting dataset\n",
        "!kaggle datasets list -s dogbreedidfromcomp"
      ],
      "execution_count": null,
      "outputs": []
    },
    {
      "cell_type": "code",
      "metadata": {
        "id": "4JorbjfCfqWj"
      },
      "source": [
        "#downloading\n",
        "!kaggle datasets download catherinehorng/dogbreedidfromcomp"
      ],
      "execution_count": null,
      "outputs": []
    },
    {
      "cell_type": "code",
      "metadata": {
        "id": "4SMvKogpgK5i"
      },
      "source": [
        "#unzipping and removing unwanted files\n",
        "!unzip /content/dog_dataset/dogbreedidfromcomp.zip -d dog_dataset\n",
        "!rm /content/dog_dataset/dogbreedidfromcomp.zip\n",
        "!rm /content/dog_dataset/sample_submission.csv"
      ],
      "execution_count": null,
      "outputs": []
    },
    {
      "cell_type": "code",
      "metadata": {
        "id": "d4_tMG0ahcQg"
      },
      "source": [
        "import numpy as np\n",
        "import pandas as pd\n",
        "import matplotlib.pyplot as plt\n",
        "from tqdm import tqdm\n",
        "from keras.preprocessing import image\n",
        "from sklearn.preprocessing import label_binarize\n",
        "from sklearn.model_selection import train_test_split\n",
        "from keras.models import Sequential\n",
        "from keras.layers import Dense,Dropout,Flatten,Conv2D,MaxPool2D\n",
        "from tensorflow.keras.optimizers import Adam"
      ],
      "execution_count": null,
      "outputs": []
    },
    {
      "cell_type": "code",
      "metadata": {
        "id": "N2YaGkYa21Jg"
      },
      "source": [
        "labels_all = pd.read_csv(\"dog_dataset/labels.csv\")\n",
        "print(labels_all.shape)\n",
        "labels_all.head()"
      ],
      "execution_count": null,
      "outputs": []
    },
    {
      "cell_type": "code",
      "metadata": {
        "id": "-bHK82EF3KAZ"
      },
      "source": [
        "# visualize each breed\n",
        "breeds_all = labels_all['breed']\n",
        "breed_count = breeds_all.value_counts()\n",
        "breed_count.head()"
      ],
      "execution_count": null,
      "outputs": []
    },
    {
      "cell_type": "code",
      "metadata": {
        "id": "Ej0LlfJs60YM"
      },
      "source": [
        "CLASS_NAMES = list(set(breeds_all.tolist()))\n",
        "labels = labels_all[(labels_all['breed'].isin(CLASS_NAMES))]\n",
        "labels = labels.reset_index()\n",
        "labels.head()\n"
      ],
      "execution_count": null,
      "outputs": []
    },
    {
      "cell_type": "code",
      "metadata": {
        "id": "fQjq7-DP3iLn"
      },
      "source": [
        " #creating numpy mtrix with zeroes\n",
        " X_data = np.zeros((len(labels),224,224,3),dtype='float32')\n",
        " #one hot encoding\n",
        " Y_data = label_binarize(labels['breed'],classes = CLASS_NAMES)\n",
        "\n",
        " #converting image to numpy array and normalizing\n",
        " for i in tqdm(range(len(labels))):\n",
        "   img = image.load_img('dog_dataset/train/%s.jpg' % labels['id'][i], target_size=(224,224))\n",
        "   img = image.img_to_array(img)\n",
        "   x = np.expand_dims(img.copy(),axis=0)\n",
        "   X_data[i] = x / 255.0\n",
        "\n",
        "  #one hot encode shape and size\n",
        "print('\\nTrain Images Shape: ',X_data.shape,' size: {:,}'.format(X_data.size))\n",
        "print('One-hot encoded output shape: ',Y_data.shape,' size: {:,}'.format(Y_data.size))\n"
      ],
      "execution_count": null,
      "outputs": []
    }
  ]
}