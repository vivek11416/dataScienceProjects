{
  "nbformat": 4,
  "nbformat_minor": 0,
  "metadata": {
    "colab": {
      "name": "Image_Watermarking.ipynb",
      "provenance": [],
      "collapsed_sections": [],
      "authorship_tag": "ABX9TyN1u4/QLR/rrVG3YCJi0/yd",
      "include_colab_link": true
    },
    "kernelspec": {
      "name": "python3",
      "display_name": "Python 3"
    },
    "language_info": {
      "name": "python"
    }
  },
  "cells": [
    {
      "cell_type": "markdown",
      "metadata": {
        "id": "view-in-github",
        "colab_type": "text"
      },
      "source": [
        "<a href=\"https://colab.research.google.com/github/vivek11416/dataScienceProjects/blob/main/Image_Watermarking.ipynb\" target=\"_parent\"><img src=\"https://colab.research.google.com/assets/colab-badge.svg\" alt=\"Open In Colab\"/></a>"
      ]
    },
    {
      "cell_type": "code",
      "metadata": {
        "id": "uBJXfCqmbfov"
      },
      "source": [
        "import cv2\n",
        "import numpy as np\n",
        "import requests\n",
        "from PIL import Image"
      ],
      "execution_count": 1,
      "outputs": []
    },
    {
      "cell_type": "code",
      "metadata": {
        "id": "a2AGzIcWccTR"
      },
      "source": [
        "# reading image from URL\n",
        "image = Image.open(requests.get(\"https://images.unsplash.com/photo-1580587771525-78b9dba3b914?ixlib=rb-1.2.1&ixid=MnwxMjA3fDB8MHxwaG90by1wYWdlfHx8fGVufDB8fHx8&auto=format&fit=crop&w=1074&q=80\", stream=True).raw)\n",
        "image_logow = image.resize((500,300))\n",
        "image_textw = image.resize((500,300))\n",
        "image_logow"
      ],
      "execution_count": null,
      "outputs": []
    },
    {
      "cell_type": "code",
      "metadata": {
        "id": "gmB3pzPGeHyG"
      },
      "source": [
        "logo = Image.open(requests.get(\"https://logos-world.net/wp-content/uploads/2020/12/Lays-Logo-700x394.png\", stream=True).raw)\n",
        "logo = logo.resize((200,100))\n",
        "logo"
      ],
      "execution_count": null,
      "outputs": []
    },
    {
      "cell_type": "code",
      "metadata": {
        "id": "CCyeRPeLfHby"
      },
      "source": [
        "image_logow = np.array(image_logow.convert('RGB'))\n",
        "h_image,w_image,_ = image_logow.shape\n",
        "logo = np.array(logo.convert('RGB'))\n",
        "h_logo,w_logo,_ = logo.shape"
      ],
      "execution_count": null,
      "outputs": []
    },
    {
      "cell_type": "code",
      "metadata": {
        "id": "VG4jHo7tf3RQ"
      },
      "source": [
        "center_y = int(h_image /2)\n",
        "center_x = int(w_image /2)\n",
        "top_y = center_y - int(h_logo /2)\n",
        "left_x = center_x - int(w_logo /2)\n",
        "bottom_y = top_y + h_logo\n",
        "right_x = left_x + w_logo"
      ],
      "execution_count": 11,
      "outputs": []
    },
    {
      "cell_type": "code",
      "metadata": {
        "id": "URgk23LGg6kh"
      },
      "source": [
        "# get region of interest\n",
        "roi = image_logow[top_y:bottom_y,left_x:right_x]\n",
        "# add the logo to the roi\n",
        "result = cv2.addWeighted(roi,1,logo,1,0)\n",
        "#drawing\n",
        "cv2.line(image_logow,(0,center_y),(left_x,center_y),(0,0,255),1)\n",
        "cv2.line(image_logow,(right_x,center_y),(w_image,center_y),(0,0,255),1)\n",
        "#replace the ROI in the image\n",
        "image_logow[top_y:bottom_y,left_x:right_x] = result"
      ],
      "execution_count": 12,
      "outputs": []
    },
    {
      "cell_type": "code",
      "metadata": {
        "id": "iYj4K6jSiAKB"
      },
      "source": [
        "img = Image.fromarray(image_logow,'RGB')\n",
        "img"
      ],
      "execution_count": null,
      "outputs": []
    },
    {
      "cell_type": "code",
      "metadata": {
        "id": "jF68IcUrilFx"
      },
      "source": [
        "# Text Watermark\n",
        "image_text = np.array(image_textw.convert('RGB'))\n",
        "cv2.putText(image_text,text='Watermark',org=(w_image-95,h_image-10),fontFace=cv2.FONT_HERSHEY_COMPLEX,fontScale=0.5,\n",
        "            color=(0,0,255), thickness=2, lineType=cv2.LINE_4);"
      ],
      "execution_count": 15,
      "outputs": []
    },
    {
      "cell_type": "code",
      "metadata": {
        "id": "mTydJVVjjwkB"
      },
      "source": [
        "timg = Image.fromarray(image_text,'RGB')\n",
        "timg"
      ],
      "execution_count": null,
      "outputs": []
    },
    {
      "cell_type": "code",
      "metadata": {
        "id": "HkJkCWikkL6C"
      },
      "source": [
        ""
      ],
      "execution_count": null,
      "outputs": []
    }
  ]
}